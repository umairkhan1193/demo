{
  "metadata": {
    "kernelspec": {
      "name": "python",
      "display_name": "Pyolite",
      "language": "python"
    },
    "language_info": {
      "codemirror_mode": {
        "name": "python",
        "version": 3
      },
      "file_extension": ".py",
      "mimetype": "text/x-python",
      "name": "python",
      "nbconvert_exporter": "python",
      "pygments_lexer": "ipython3",
      "version": "3.8"
    }
  },
  "nbformat_minor": 4,
  "nbformat": 4,
  "cells": [
    {
      "cell_type": "markdown",
      "source": "<center>\n    <img src=\"https://cf-courses-data.s3.us.cloud-object-storage.appdomain.cloud/IBMDeveloperSkillsNetwork-DS0105EN-SkillsNetwork/labs/Module2/images/SN_web_lightmode.png\" width=\"300\" alt=\"cognitiveclass.ai logo\">\n</center>\n",
      "metadata": {}
    },
    {
      "cell_type": "markdown",
      "source": "#### Add your code below following the instructions given in the course\n",
      "metadata": {}
    },
    {
      "cell_type": "markdown",
      "source": "# My Jupyter Notebook on IBM Watson Studio\n",
      "metadata": {}
    },
    {
      "cell_type": "markdown",
      "source": "**Umair Khan**\n\nI am Student and I want to be a data scientist.\n",
      "metadata": {}
    },
    {
      "cell_type": "markdown",
      "source": "*I am interested in data science because i am curious about data and making it meaningful by using certain methods.*",
      "metadata": {}
    },
    {
      "cell_type": "markdown",
      "source": "### This code checks if number is even or odd\n",
      "metadata": {}
    },
    {
      "cell_type": "code",
      "source": "num=7\nif num%2==0:\n    print(\"Number is even\")\nelse:\n    print(\"Number is odd\")\n    \n   \n",
      "metadata": {
        "trusted": true
      },
      "execution_count": 9,
      "outputs": [
        {
          "name": "stdout",
          "text": "Number is odd\n",
          "output_type": "stream"
        }
      ]
    },
    {
      "cell_type": "markdown",
      "source": "Horizontal Rule\n***\nTable\n<table>\n    <tr><td>1</td><td>1</td><td>1</td></tr>\n    <tr><td>2</td><td>2</td><td>1</td></tr>\n    <tr><td>8</td><td>5</td><td>7</td></tr>\n</table>",
      "metadata": {}
    },
    {
      "cell_type": "markdown",
      "source": "Hyperlink\n[ Google](https://www.google.com)",
      "metadata": {}
    },
    {
      "cell_type": "code",
      "source": "",
      "metadata": {},
      "execution_count": null,
      "outputs": []
    }
  ]
}